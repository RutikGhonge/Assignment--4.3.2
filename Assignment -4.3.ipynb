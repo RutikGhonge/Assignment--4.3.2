{
 "cells": [
  {
   "cell_type": "markdown",
   "id": "f2554770",
   "metadata": {},
   "source": [
    "Write a Python program to square the elements of a list using map() function.\n",
    "\n",
    "\n",
    "\n",
    "Sample List: [4, 5, 2, 9]\n"
   ]
  },
  {
   "cell_type": "code",
   "execution_count": 15,
   "id": "baa47cb8",
   "metadata": {},
   "outputs": [
    {
     "name": "stdout",
     "output_type": "stream",
     "text": [
      "Square of numbers:\n",
      "[8, 10, 4, 18]\n"
     ]
    }
   ],
   "source": [
    "nums = [4,5,2,9]\n",
    "\n",
    "# print(\"Original list: \", nums)\n",
    "\n",
    "result = map(lambda x:x*2 , nums) \n",
    "\n",
    "print(\"Square of numbers:\")\n",
    "\n",
    "print(list(result))"
   ]
  }
 ],
 "metadata": {
  "kernelspec": {
   "display_name": "Python 3 (ipykernel)",
   "language": "python",
   "name": "python3"
  },
  "language_info": {
   "codemirror_mode": {
    "name": "ipython",
    "version": 3
   },
   "file_extension": ".py",
   "mimetype": "text/x-python",
   "name": "python",
   "nbconvert_exporter": "python",
   "pygments_lexer": "ipython3",
   "version": "3.10.0"
  }
 },
 "nbformat": 4,
 "nbformat_minor": 5
}
